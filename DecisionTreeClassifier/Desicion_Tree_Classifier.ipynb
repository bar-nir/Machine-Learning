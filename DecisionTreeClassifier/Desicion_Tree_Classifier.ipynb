{
 "cells": [
  {
   "cell_type": "markdown",
   "metadata": {
    "nbgrader": {
     "grade": false,
     "grade_id": "cell-6bd0516e7cb654f5",
     "locked": true,
     "schema_version": 1,
     "solution": false
    }
   },
   "source": [
    "# Exercise 2: Decision Trees\n",
    "\n",
    "In this assignment you will implement a Decision Tree algorithm as learned in class.\n",
    "\n",
    "## Read the following instructions carefully:\n",
    "\n",
    "1. This jupyter notebook contains all the step by step instructions needed for this exercise.\n",
    "1. Submission includes this notebook only with the exercise number and your ID as the filename. For example: `hw2_123456789_987654321.ipynb` if you submitted in pairs and `hw2_123456789.ipynb` if you submitted the exercise alone.\n",
    "1. Write **efficient vectorized** code whenever possible. Some calculations in this exercise take several minutes when implemented efficiently, and might take much longer otherwise. Unnecessary loops will result in point deduction.\n",
    "1. You are responsible for the correctness of your code and should add as many tests as you see fit. Tests will not be graded nor checked.\n",
    "1. Write your functions in this notebook only. **Do not create Python modules and import them**.\n",
    "1. You are allowed to use functions and methods from the [Python Standard Library](https://docs.python.org/3/library/) and [numpy](https://www.numpy.org/devdocs/reference/) only. **Do not import anything else.**\n",
    "1. Your code must run without errors. Make sure your `numpy` version is at least 1.15.4 and that you are using at least python 3.6. Changes of the configuration we provided are at your own risk. Any code that cannot run will not be graded.\n",
    "1. Write your own code. Cheating will not be tolerated.\n",
    "1. Answers to qualitative questions should be written in **markdown** cells (with $\\LaTeX$ support). Answers that will be written in commented code blocks will not be checked.\n",
    "\n",
    "## In this exercise you will perform the following:\n",
    "1. Practice OOP in python.\n",
    "2. Implement two impurity measures: Gini and Entropy.\n",
    "3. Construct a decision tree algorithm.\n",
    "4. Prune the tree to achieve better results.\n",
    "5. Visualize your results."
   ]
  },
  {
   "cell_type": "markdown",
   "metadata": {},
   "source": [
    "# I have read and understood the instructions: *** 318961943_319024303 ***"
   ]
  },
  {
   "cell_type": "code",
   "execution_count": 1,
   "metadata": {
    "nbgrader": {
     "grade": false,
     "grade_id": "cell-ed9fe7b1026e33cb",
     "locked": true,
     "schema_version": 1,
     "solution": false
    }
   },
   "outputs": [],
   "source": [
    "import numpy as np\n",
    "import pandas as pd\n",
    "import matplotlib.pyplot as plt\n",
    "\n",
    "# make matplotlib figures appear inline in the notebook\n",
    "%matplotlib inline\n",
    "plt.rcParams['figure.figsize'] = (10.0, 8.0) # set default size of plots\n",
    "plt.rcParams['image.interpolation'] = 'nearest'\n",
    "plt.rcParams['image.cmap'] = 'gray'\n",
    "\n",
    "# Ignore warnings\n",
    "import warnings\n",
    "warnings.filterwarnings('ignore')"
   ]
  },
  {
   "cell_type": "markdown",
   "metadata": {
    "nbgrader": {
     "grade": false,
     "grade_id": "cell-c6ac605270c2b091",
     "locked": true,
     "schema_version": 1,
     "solution": false
    }
   },
   "source": [
    "## Warmup - OOP in python\n",
    "\n",
    "Our desicion tree will be implemented using a dedicated python class. Python classes are very similar to classes in Java.\n",
    "\n",
    "\n",
    "You can use the following [site](https://jeffknupp.com/blog/2014/06/18/improve-your-python-python-classes-and-object-oriented-programming/) to learn about classes in python."
   ]
  },
  {
   "cell_type": "code",
   "execution_count": 2,
   "metadata": {},
   "outputs": [],
   "source": [
    "class Node(object):\n",
    "    def __init__(self, data):\n",
    "        self.data = data\n",
    "        self.children = []\n",
    "\n",
    "    def add_child(self, node):\n",
    "        self.children.append(node)"
   ]
  },
  {
   "cell_type": "code",
   "execution_count": 3,
   "metadata": {},
   "outputs": [
    {
     "data": {
      "text/plain": [
       "[<__main__.Node at 0x126d3b6d0>, <__main__.Node at 0x126d3b280>]"
      ]
     },
     "execution_count": 3,
     "metadata": {},
     "output_type": "execute_result"
    }
   ],
   "source": [
    "n = Node(5)\n",
    "p = Node(6)\n",
    "q = Node(7)\n",
    "n.add_child(p)\n",
    "n.add_child(q)\n",
    "n.children"
   ]
  },
  {
   "cell_type": "markdown",
   "metadata": {
    "nbgrader": {
     "grade": false,
     "grade_id": "cell-2f1ceb251c649b62",
     "locked": true,
     "schema_version": 1,
     "solution": false
    }
   },
   "source": [
    "## Data preprocessing\n",
    "\n",
    "For the following exercise, we will use a dataset containing mushroom data `agaricus-lepiota.csv`. \n",
    "\n",
    "This data set includes descriptions of hypothetical samples corresponding to 23 species of gilled mushrooms in the Agaricus and Lepiota Family. Each species is identified as definitely edible, definitely poisonous, or of unknown edibility and not recommended. This latter class was combined with the poisonous\n",
    "one (=there are only two classes **edible** and **poisonous**). \n",
    "    \n",
    "The dataset contains 8124 observations with 22 features:\n",
    "1. cap-shape: bell=b,conical=c,convex=x,flat=f,knobbed=k,sunken=s\n",
    "2. cap-surface: fibrous=f,grooves=g,scaly=y,smooth=s\n",
    "3. cap-color: brown=n,buff=b,cinnamon=c,gray=g,green=r,pink=p,purple=u,red=e,white=w,yellow=y\n",
    "4. bruises: bruises=t,no=f\n",
    "5. odor: almond=a,anise=l,creosote=c,fishy=y,foul=f, musty=m,none=n,pungent=p,spicy=s\n",
    "6. gill-attachment: attached=a,descending=d,free=f,notched=n\n",
    "7. gill-spacing: close=c,crowded=w,distant=d\n",
    "8. gill-size: broad=b,narrow=n\n",
    "9. gill-color: black=k,brown=n,buff=b,chocolate=h,gray=g,green=r,orange=o,pink=p,purple=u,red=e,white=w,yellow=y\n",
    "10. stalk-shape: enlarging=e,tapering=t\n",
    "11. stalk-root: bulbous=b,club=c,cup=u,equal=e,rhizomorphs=z,rooted=r\n",
    "12. stalk-surface-above-ring: fibrous=f,scaly=y,silky=k,smooth=s\n",
    "13. stalk-surface-below-ring: fibrous=f,scaly=y,silky=k,smooth=s\n",
    "14. stalk-color-above-ring: brown=n,buff=b,cinnamon=c,gray=g,orange=o,pink=p,red=e,white=w,yellow=y\n",
    "15. stalk-color-below-ring: brown=n,buff=b,cinnamon=c,gray=g,orange=o,pink=p,red=e,white=w,yellow=y\n",
    "16. veil-type: partial=p,universal=u\n",
    "17. veil-color: brown=n,orange=o,white=w,yellow=y\n",
    "18. ring-number: none=n,one=o,two=t\n",
    "19. ring-type: cobwebby=c,evanescent=e,flaring=f,large=l,none=n,pendant=p,sheathing=s,zone=z\n",
    "20. spore-print-color: black=k,brown=n,buff=b,chocolate=h,green=r,orange=o,purple=u,white=w,yellow=y\n",
    "21. population: abundant=a,clustered=c,numerous=n,scattered=s,several=v,solitary=y\n",
    "22. habitat: grasses=g,leaves=l,meadows=m,paths=p,urban=u,waste=w,woods=d\n",
    "\n",
    "First, we will read and explore the data using pandas and the `.read_csv` method. Pandas is an open source library providing high-performance, easy-to-use data structures and data analysis tools for the Python programming language."
   ]
  },
  {
   "cell_type": "code",
   "execution_count": 4,
   "metadata": {
    "nbgrader": {
     "grade": false,
     "grade_id": "cell-d79cb4542926ad3f",
     "locked": true,
     "schema_version": 1,
     "solution": false
    }
   },
   "outputs": [],
   "source": [
    "# load dataset\n",
    "data = pd.read_csv('agaricus-lepiota.csv')\n"
   ]
  },
  {
   "cell_type": "markdown",
   "metadata": {},
   "source": [
    "One of the advantages of the Decision Tree algorithm is that almost no preprocessing is required. However, finding missing values is always required."
   ]
  },
  {
   "cell_type": "code",
   "execution_count": 5,
   "metadata": {},
   "outputs": [],
   "source": [
    "#############################################################################\n",
    "# TODO: Find columns with missing values and remove them from the data.#\n",
    "#############################################################################\n",
    "columns_to_drop = [col for col in data.columns if data[col].isnull().any()] \n",
    "data = data.drop(columns_to_drop)"
   ]
  },
  {
   "cell_type": "markdown",
   "metadata": {},
   "source": [
    "We will split the dataset to `Training` and `Testing` datasets."
   ]
  },
  {
   "cell_type": "code",
   "execution_count": 6,
   "metadata": {},
   "outputs": [
    {
     "name": "stdout",
     "output_type": "stream",
     "text": [
      "Training dataset shape:  (6093, 22)\n",
      "Testing dataset shape:  (2031, 22)\n"
     ]
    }
   ],
   "source": [
    "from sklearn.model_selection import train_test_split\n",
    "# Making sure the last column will hold the labels\n",
    "X, y = data.drop('class', axis=1), data['class']\n",
    "# split features\n",
    "X = np.column_stack([X,y])\n",
    "# split dataset using random_state to get the same split each time\n",
    "X_train, X_test = train_test_split(X, random_state=99)\n",
    "\n",
    "print(\"Training dataset shape: \", X_train.shape)\n",
    "print(\"Testing dataset shape: \", X_test.shape)"
   ]
  },
  {
   "cell_type": "code",
   "execution_count": 7,
   "metadata": {},
   "outputs": [
    {
     "data": {
      "text/plain": [
       "(8124,)"
      ]
     },
     "execution_count": 7,
     "metadata": {},
     "output_type": "execute_result"
    }
   ],
   "source": [
    "y.shape"
   ]
  },
  {
   "cell_type": "markdown",
   "metadata": {
    "nbgrader": {
     "grade": false,
     "grade_id": "cell-fd7b0191f3f1e897",
     "locked": true,
     "schema_version": 1,
     "solution": false
    }
   },
   "source": [
    "## Impurity Measures\n",
    "\n",
    "Impurity is a measure of how often a randomly chosen element from the set would be incorrectly labeled if it was randomly labeled according to the distribution of labels in the subset. Implement the functions `calc_gini` and `calc_entropy`. You are encouraged to test your implementation (10 points)."
   ]
  },
  {
   "cell_type": "code",
   "execution_count": 8,
   "metadata": {},
   "outputs": [],
   "source": [
    "def calc_gini(data):\n",
    "    \"\"\"\n",
    "    Calculate gini impurity measure of a dataset.\n",
    " \n",
    "    Input:\n",
    "    - data: any dataset where the last column holds the labels.\n",
    " \n",
    "    Returns the gini impurity.    \n",
    "    \"\"\"\n",
    "    y = data[:,-1]\n",
    "    unique, counts = np.unique(y, return_counts=True)\n",
    "    p = counts/len(data)\n",
    "    gini = 1-np.sum(p**2)\n",
    "    return gini"
   ]
  },
  {
   "cell_type": "code",
   "execution_count": 9,
   "metadata": {},
   "outputs": [],
   "source": [
    "def calc_entropy(data):\n",
    "    \"\"\"\n",
    "    Calculate the entropy of a dataset.\n",
    "\n",
    "    Input:\n",
    "    - data: any dataset where the last column holds the labels.\n",
    "\n",
    "    Returns the entropy of the dataset.    \n",
    "    \"\"\"\n",
    "    entropy = 0.0\n",
    "    unique, counts = np.unique(data.T[-1], return_counts=True)\n",
    "    dict_key_count = dict(zip(unique, counts))\n",
    "    sum_label = 0\n",
    "    m = len(data)\n",
    "    for key,count in dict_key_count.items():\n",
    "        entropy = entropy + ( (count/m) * np.log2((count/m)))\n",
    "    entropy = entropy * (-1)\n",
    "    return entropy"
   ]
  },
  {
   "cell_type": "code",
   "execution_count": 10,
   "metadata": {
    "scrolled": true
   },
   "outputs": [
    {
     "data": {
      "text/plain": [
       "(0.4995636322379775, 0.9993703627906085)"
      ]
     },
     "execution_count": 10,
     "metadata": {},
     "output_type": "execute_result"
    }
   ],
   "source": [
    "##### Your Tests Here #####\n",
    "calc_gini(X),calc_entropy(X)"
   ]
  },
  {
   "cell_type": "markdown",
   "metadata": {},
   "source": [
    "## Goodness of Split\n",
    "\n",
    "Given a feature the Goodnees of Split measures the reduction in the impurity if we split the data according to the feature.\n",
    "$$\n",
    "\\Delta\\varphi(S, A) = \\varphi(S) - \\sum_{v\\in Values(A)} \\frac{|S_v|}{|S|}\\varphi(S_v)\n",
    "$$\n",
    "\n",
    "In our implementation the goodness_of_split function will return either the Goodness of Split or the Gain Ratio as learned in class. You'll control the return value with the `gain_ratio` parameter. If this parameter will set to False (the default value) it will return the regular Goodness of Split. If it will set to True it will return the Gain Ratio.\n",
    "$$\n",
    "GainRatio(S,A)=\\frac{InformationGain(S,A)}{SplitInformation(S,A)}\n",
    "$$\n",
    "Where:\n",
    "$$\n",
    "InformationGain(S,A)=Goodness\\ of\\ Split\\ calculated\\ with\\ Entropy\\ as\\ the\\ Impurity\\ function \\\\\n",
    "SplitInformation(S,A)=- \\sum_{a\\in A} \\frac{|S_a|}{|S|}\\log\\frac{|S_a|}{|S|}\n",
    "$$\n",
    "NOTE: you can add more parameters to the function and you can also add more returning variables (The given parameters and the given returning variable should not be touch). (10 Points)"
   ]
  },
  {
   "cell_type": "code",
   "execution_count": 11,
   "metadata": {},
   "outputs": [],
   "source": [
    "def goodness_of_split(data, feature, impurity_func, gain_ratio=False):\n",
    "    \"\"\"\n",
    "    Calculate the goodness of split of a dataset given a feature and impurity function.\n",
    "\n",
    "    Input:\n",
    "    - data: any dataset where the last column holds the labels.\n",
    "    - feature: the feature index.\n",
    "    - impurity func: a function that calculates the impurity.\n",
    "    - gain_ratio: goodness of split or gain ratio flag.\n",
    "\n",
    "    Returns the goodness of split (or the Gain Ration).  \n",
    "    \"\"\"\n",
    "    if gain_ratio == True:\n",
    "        impurity_func = calc_entropy\n",
    "    goodness = 0.0\n",
    "    split_information = 0\n",
    "    feature_impurity = impurity_func(data)\n",
    "    feature_children_impurity = 0\n",
    "    unique, counts = np.unique(data.T[feature], return_counts=True)\n",
    "    dict_key_count = dict(zip(unique, counts))\n",
    "    for val,count in dict_key_count.items():\n",
    "        \n",
    "        data_filter = data[data[:,feature] == val]\n",
    "        split_info_child = len(data_filter)/len(data)\n",
    "        split_information +=split_info_child*np.log2(split_info_child) \n",
    "        feature_children_impurity = feature_children_impurity + split_info_child * impurity_func(data_filter)\n",
    "    if gain_ratio == False: \n",
    "        goodness = feature_impurity - feature_children_impurity\n",
    "    else:\n",
    "        information_gain = feature_impurity - feature_children_impurity\n",
    "        if(split_information == 0):\n",
    "            return 0\n",
    "        goodness = information_gain / split_information\n",
    "        goodness = goodness*-1\n",
    "    return goodness    "
   ]
  },
  {
   "cell_type": "markdown",
   "metadata": {},
   "source": [
    "## Building a Decision Tree\n",
    "\n",
    "Use a Python class to construct the decision tree. Your class should support the following functionality:\n",
    "\n",
    "1. Initiating a node for a decision tree. You will need to use several class methods and class attributes and you are free to use them as you see fit. We recommend that every node will hold the feature and value used for the split and its children.\n",
    "2. Your code should support both Gini and Entropy as impurity measures. \n",
    "3. The provided data includes categorical data. In this exercise, when splitting a node create the number of children needed according to the attribute unique values.\n",
    "\n",
    "Complete the class `DecisionNode`. The structure of this class is entirely up to you. \n",
    "\n",
    "Complete the function `build_tree`. This function should get the training dataset and the impurity as inputs, initiate a root for the decision tree and construct the tree according to the procedure you learned in class. (30 points)"
   ]
  },
  {
   "cell_type": "code",
   "execution_count": 12,
   "metadata": {},
   "outputs": [],
   "source": [
    "def node_pred(node,data):\n",
    "    unique, counts = np.unique(data.T[-1],return_counts=True)\n",
    "    dict_key_count = dict(zip(unique, counts))\n",
    "    return max(dict_key_count, key=dict_key_count.get), dict_key_count"
   ]
  },
  {
   "cell_type": "code",
   "execution_count": 13,
   "metadata": {},
   "outputs": [],
   "source": [
    "class DecisionNode:\n",
    "    \"\"\"\n",
    "    This class will hold everything you require to construct a decision tree.\n",
    "    The structure of this class is up to you. However, you need to support basic \n",
    "    functionality as described above. It is highly recommended that you \n",
    "    first read and understand the entire exercise before diving into this class.\n",
    "    \"\"\"\n",
    "    def __init__(self, data, feature, father):\n",
    "        self.feature = feature # column index of criteria being tested\n",
    "        self.data = data\n",
    "        self.children = []\n",
    "        self.father = father\n",
    "        self.pred, self.label_count = node_pred(self,data)\n",
    "        \n",
    "    def add_child(self, node):\n",
    "        self.children.append(node)    \n",
    "    \n",
    "    def set_goodnes_of_split(self, goodness_of_split):\n",
    "        self.goodness_of_split = goodness_of_split"
   ]
  },
  {
   "cell_type": "code",
   "execution_count": 14,
   "metadata": {},
   "outputs": [],
   "source": [
    "def get_best_index_feature_split(data, impurity, gain_ratio=False):\n",
    "    best_feature_index = 0\n",
    "    best_feature_goodness = goodness_of_split(data, 0, impurity, gain_ratio)\n",
    "    for i in range(1 , len(data.T) - 1):\n",
    "        curr_feature_goodness = goodness_of_split(data, i, impurity, gain_ratio)\n",
    "        if curr_feature_goodness > best_feature_goodness:\n",
    "            best_feature_goodness = curr_feature_goodness\n",
    "            best_feature_index = i\n",
    "    if best_feature_goodness <= 0:\n",
    "        return -1 , best_feature_goodness\n",
    "    return best_feature_index , best_feature_goodness"
   ]
  },
  {
   "cell_type": "code",
   "execution_count": 29,
   "metadata": {},
   "outputs": [],
   "source": [
    "def build_tree(data, impurity, curr_depth, root, gain_ratio=False, min_samples_split=1, max_depth=1000):\n",
    "    \"\"\"\n",
    "    Build a tree using the given impurity measure and training dataset. \n",
    "    You are required to fully grow the tree until all leaves are pure. \n",
    "\n",
    "    Input:\n",
    "    - data: the training dataset.\n",
    "    - impurity: the chosen impurity measure. Notice that you can send a function\n",
    "                as an argument in python.\n",
    "    - gain_ratio: goodness of split or gain ratio flag\n",
    "    - min_samples_split: the minimum number of samples required to split an internal node\n",
    "    - max_depth: the allowable depth of the tree\n",
    "\n",
    "    Output: the root node of the tree.\n",
    "    \"\"\"\n",
    "    data = data.copy() \n",
    "    best_feature_index_to_split,goodness_of_split = get_best_index_feature_split(data, impurity, gain_ratio)\n",
    "    curr_node = DecisionNode(data, best_feature_index_to_split,root)\n",
    "    curr_node.set_goodnes_of_split(goodness_of_split)\n",
    "    if curr_depth == 0 and root == None:\n",
    "        root = curr_node\n",
    "    else:\n",
    "        root.add_child(curr_node)\n",
    "    if curr_depth >= max_depth or len(data) <= min_samples_split:\n",
    "        return \n",
    "    if len(np.unique(curr_node.data.T[-1]))==1 or best_feature_index_to_split == -1:\n",
    "        return \n",
    "    unique_values = np.unique(data.T[best_feature_index_to_split])\n",
    "    for val in unique_values:\n",
    "        data_filter = data[data[:,best_feature_index_to_split] == val]\n",
    "        build_tree(data_filter, impurity,curr_depth + 1,curr_node, gain_ratio, min_samples_split, max_depth)\n",
    "    return root"
   ]
  },
  {
   "cell_type": "code",
   "execution_count": 30,
   "metadata": {},
   "outputs": [
    {
     "name": "stdout",
     "output_type": "stream",
     "text": [
      "gini\n",
      "tree_entropy\n",
      "tree_entropy_gain_ratio\n"
     ]
    }
   ],
   "source": [
    "# python supports passing a function as an argument to another function.\n",
    "print('gini')\n",
    "tree_gini = build_tree(data=X_train, impurity=calc_gini, curr_depth=0, root=None) # gini and goodness of split\n",
    "print('tree_entropy')\n",
    "tree_entropy = build_tree(data=X_train, impurity=calc_entropy, curr_depth=0, root=None) # entropy and goodness of split\n",
    "print('tree_entropy_gain_ratio')\n",
    "tree_entropy_gain_ratio = build_tree(data=X_train, impurity=calc_entropy,  curr_depth=0, root=None,gain_ratio=True) # entropy and gain ratio"
   ]
  },
  {
   "cell_type": "markdown",
   "metadata": {},
   "source": [
    "## Tree evaluation\n",
    "\n",
    "Complete the functions `predict` and `calc_accuracy`. (10 points)"
   ]
  },
  {
   "cell_type": "code",
   "execution_count": 31,
   "metadata": {},
   "outputs": [],
   "source": [
    "def predict(node, instance):\n",
    "    \"\"\"\n",
    "    Predict a given instance using the decision tree\n",
    " \n",
    "    Input:\n",
    "    - root: the root of the decision tree.\n",
    "    - instance: an row vector from the dataset. Note that the last element \n",
    "                of this vector is the label of the instance.\n",
    " \n",
    "    Output: the prediction of the instance.\n",
    "    \"\"\"\n",
    "    found_child = True\n",
    "    while(len(node.children)!=0 and found_child == True):\n",
    "        found_child = False\n",
    "        for child in node.children:\n",
    "            if (child.data[:,node.feature] == instance[node.feature]).all():\n",
    "                node = child\n",
    "                found_child = True\n",
    "                break\n",
    "    return node.pred\n"
   ]
  },
  {
   "cell_type": "code",
   "execution_count": 32,
   "metadata": {},
   "outputs": [],
   "source": [
    "def calc_accuracy(node, dataset):\n",
    "    \"\"\"\n",
    "    Predict a given dataset using the decision tree\n",
    " \n",
    "    Input:\n",
    "    - node: a node in the decision tree.\n",
    "    - dataset: the dataset on which the accuracy is evaluated\n",
    " \n",
    "    Output: the accuracy of the decision tree on the given dataset (%).\n",
    "    \"\"\"\n",
    "    count_True = sum(instance[-1] == predict(node,instance) for instance in dataset )\n",
    "    accuracy = count_True/len(dataset)\n",
    "    return accuracy*100"
   ]
  },
  {
   "cell_type": "markdown",
   "metadata": {},
   "source": [
    "After building the three trees using the training set, you should calculate the accuracy on the test set. For each tree print the training and test accuracy. Select the tree that gave you the best test accuracy. For the rest of the exercise, use that tree (when you asked to build another tree use the same impurity function and same gain_ratio flag). "
   ]
  },
  {
   "cell_type": "code",
   "execution_count": 33,
   "metadata": {},
   "outputs": [
    {
     "name": "stdout",
     "output_type": "stream",
     "text": [
      "tree_gini\n",
      "Test accuracy:77.49876907927128\n",
      "Train accuracy:99.24503528639423\n",
      "\n",
      "tree_entropy\n",
      "Test accuracy:77.25258493353027\n",
      "Train accuracy:99.40915805022156\n",
      "\n",
      "tree_entropy_gain_ratio\n",
      "Test accuracy:78.53274249138356\n",
      "Train accuracy:99.63892991957984\n",
      "\n",
      "best tree is tree_entropy_gain_ratio\n"
     ]
    }
   ],
   "source": [
    "best_tree_accuracy = 0\n",
    "trees_names = [\"tree_gini\", \"tree_entropy\", \"tree_entropy_gain_ratio\"]\n",
    "trees = [tree_gini, tree_entropy, tree_entropy_gain_ratio]\n",
    "for i in range(len(trees)):\n",
    "    tree_accuracy = calc_accuracy(trees[i],X_test)\n",
    "    print(trees_names[i]+\"\\n\" + \"Test accuracy:\" + str(tree_accuracy)+ \"\\nTrain accuracy:\"+str(calc_accuracy(trees[i],X_train))+\"\\n\")\n",
    "    if tree_accuracy > best_tree_accuracy:\n",
    "        best_tree_accuracy = tree_accuracy\n",
    "        best_tree_index = i\n",
    "print(\"best tree is \"+ trees_names[best_tree_index])"
   ]
  },
  {
   "cell_type": "markdown",
   "metadata": {},
   "source": [
    "## Depth pruning\n",
    "\n",
    "(15 points)\n",
    "\n",
    "Consider the following max_depth values: [1, 2, 3, 4, 5, 6, 7, 8]. For each value, construct a tree and prune it according to the max_depth value = don't let the tree to grow beyond this depth. Next, calculate the training and testing accuracy.<br>\n",
    "On a single plot, draw the training and testing accuracy as a function of the max_depth. Mark the best result on the graph with red circle."
   ]
  },
  {
   "cell_type": "code",
   "execution_count": 20,
   "metadata": {},
   "outputs": [
    {
     "data": {
      "text/plain": [
       "[]"
      ]
     },
     "execution_count": 20,
     "metadata": {},
     "output_type": "execute_result"
    },
    {
     "data": {
      "image/png": "[encoded data removed]",
      "text/plain": [
       "<Figure size 504x504 with 1 Axes>"
      ]
     },
     "metadata": {
      "needs_background": "light"
     },
     "output_type": "display_data"
    }
   ],
   "source": [
    "plt.figure(figsize=(7, 7))\n",
    "plt.xlabel('Depth')\n",
    "plt.ylabel('Accuracy')\n",
    "plt.title('Accuracy as a function of depth')\n",
    "array_depth = [1, 2, 3, 4, 5, 6, 7, 8]\n",
    "X = [] \n",
    "Y_test = []\n",
    "Y_train = []\n",
    "best_accuracy = 0\n",
    "for depth in array_depth:\n",
    "    curr_tree = build_tree(data=X_train, impurity=calc_entropy,  curr_depth=0, root=None, max_depth = depth,gain_ratio=True)\n",
    "    tree_accuracy_test = calc_accuracy(curr_tree, X_test)\n",
    "    tree_accuracy_train = calc_accuracy(curr_tree, X_train)\n",
    "    if tree_accuracy_test > best_accuracy:\n",
    "        best_accuracy = tree_accuracy_test\n",
    "        best_depth = depth\n",
    "        y_best = tree_accuracy_test\n",
    "    X.append(depth)\n",
    "    Y_test.append(tree_accuracy_test)\n",
    "    Y_train.append(tree_accuracy_train)\n",
    "plt.scatter(x = X, y = Y_test, c='g', label = \"Test accuracy\")\n",
    "plt.scatter(x = X, y = Y_train, c='b', label = \"Train accuracy\")\n",
    "plt.scatter(x = best_depth, y = y_best, c='r', label = \"Best accuracy for test\")\n",
    "plt.legend()\n",
    "plt.plot()"
   ]
  },
  {
   "cell_type": "markdown",
   "metadata": {},
   "source": [
    "## Min Samples Split\n",
    "\n",
    "(15 points)\n",
    "\n",
    "Consider the following min_samples_split values: [1, 5, 10, 20, 50]. For each value, construct a tree and prune it according to the min_samples_split value = don't split a node if the number of sample in it is less or equal to the min_samples_split value. Next, calculate the training and testing accuracy.<br>\n",
    "On a single plot, draw the training and testing accuracy as a function of the min_samples_split. Mark the best result on the graph with red circle. (make sure that the x-axis ticks represent the values of min_samples_split)"
   ]
  },
  {
   "cell_type": "code",
   "execution_count": 21,
   "metadata": {},
   "outputs": [
    {
     "data": {
      "text/plain": [
       "[]"
      ]
     },
     "execution_count": 21,
     "metadata": {},
     "output_type": "execute_result"
    },
    {
     "data": {
      "image/png": "[encoded data removed]",
      "text/plain": [
       "<Figure size 504x504 with 1 Axes>"
      ]
     },
     "metadata": {
      "needs_background": "light"
     },
     "output_type": "display_data"
    }
   ],
   "source": [
    "plt.figure(figsize=(7, 7))\n",
    "plt.xlabel('Min samples split')\n",
    "plt.ylabel('Accuracy')\n",
    "plt.title('Accuracy as a function of min samples split')\n",
    "array_min_samples_split = [1, 5, 10, 20, 50]\n",
    "X = [] \n",
    "Y_test = []\n",
    "Y_train = []\n",
    "best_accuracy = 0\n",
    "for min_samples_split in array_min_samples_split:\n",
    "    curr_tree = build_tree(data=X_train, impurity=calc_entropy,  curr_depth=0, root=None,min_samples_split = min_samples_split,gain_ratio=True)\n",
    "    tree_accuracy_test = calc_accuracy(curr_tree, X_test)\n",
    "    tree_accuracy_train = calc_accuracy(curr_tree, X_train)\n",
    "    if tree_accuracy_test > best_accuracy:\n",
    "        best_accuracy = tree_accuracy_test\n",
    "        best_min_samples = min_samples_split\n",
    "        y_best = tree_accuracy_test\n",
    "    X.append(min_samples_split)\n",
    "    Y_test.append(tree_accuracy_test)\n",
    "    Y_train.append(tree_accuracy_train)\n",
    "plt.scatter(x = X, y = Y_test, c='g', label = \"Test accuracy\")\n",
    "plt.scatter(x = X, y = Y_train, c='b', label = \"Train accuracy\")\n",
    "plt.scatter(x = best_min_samples, y = y_best, c='r', label = \"Best accuracy for test\")\n",
    "plt.legend()\n",
    "plt.plot()"
   ]
  },
  {
   "cell_type": "markdown",
   "metadata": {},
   "source": [
    "Build the best 2 trees:\n",
    "1. tree_max_depth - the best tree according to max_depth pruning\n",
    "1. tree_min_samples_split - the best tree according to min_samples_split pruning"
   ]
  },
  {
   "cell_type": "code",
   "execution_count": 22,
   "metadata": {},
   "outputs": [
    {
     "name": "stdout",
     "output_type": "stream",
     "text": [
      "tree_min_samples_split: 0.8951255539143279 ,Samples: 50\n",
      "tree_max_depth: 0.8956179222058099 , Depth: 4\n"
     ]
    }
   ],
   "source": [
    "\n",
    "tree_max_depth=build_tree(data=X_train, impurity=calc_entropy,  curr_depth=0, root=None, max_depth = best_depth,gain_ratio=True)\n",
    "tree_min_samples_split =build_tree(data=X_train, impurity=calc_entropy,  curr_depth=0, root=None,min_samples_split = best_min_samples,gain_ratio=True)\n",
    "print(\"tree_min_samples_split: \" + str(calc_accuracy(tree_min_samples_split, X_test)),f\",Samples: {best_min_samples}\")\n",
    "print(\"tree_max_depth: \" + str(calc_accuracy(tree_max_depth, X_test)),f\", Depth: {best_depth}\")"
   ]
  },
  {
   "cell_type": "markdown",
   "metadata": {},
   "source": [
    "## Number of Nodes\n",
    "\n",
    "(5 points)\n",
    "\n",
    "Complete the function counts_nodes and print the number of nodes in each tree and print the number of nodes of the two trees above"
   ]
  },
  {
   "cell_type": "code",
   "execution_count": 23,
   "metadata": {},
   "outputs": [],
   "source": [
    "def count_nodes(node):\n",
    "    \"\"\"\n",
    "    Count the number of node in a given tree\n",
    " \n",
    "    Input:\n",
    "    - node: a node in the decision tree.\n",
    " \n",
    "    Output: the number of node in the tree.\n",
    "    \"\"\"\n",
    "    if node is not None:\n",
    "        return 1 + sum(count_nodes(child) for child in node.children)"
   ]
  },
  {
   "cell_type": "code",
   "execution_count": 24,
   "metadata": {},
   "outputs": [
    {
     "name": "stdout",
     "output_type": "stream",
     "text": [
      "tree_min_samples_split : 349 nodes in the tree\n",
      "tree_max_depth : 205 nodes in the tree\n"
     ]
    }
   ],
   "source": [
    "print(f\"tree_min_samples_split : {count_nodes(tree_min_samples_split)} nodes in the tree\")\n",
    "print(f\"tree_max_depth : {count_nodes(tree_max_depth)} nodes in the tree\")"
   ]
  },
  {
   "cell_type": "markdown",
   "metadata": {},
   "source": [
    "## Print the tree\n",
    "\n",
    "Complete the function `print_tree`. Your tree should be visualized clearly. You can use the following example as a reference:\n",
    "```\n",
    "[ROOT, feature=X0],\n",
    "  [X0=a, feature=X2]\n",
    "    [X2=c, leaf]: [{1.0: 10}]\n",
    "    [X2=d, leaf]: [{0.0: 10}]\n",
    "  [X0=y, feature=X5], \n",
    "    [X5=a, leaf]: [{1.0: 5}]\n",
    "    [X5=s, leaf]: [{0.0: 10}]\n",
    "  [X0=e, leaf]: [{0.0: 25, 1.0: 50}]\n",
    "```\n",
    "In each brackets:\n",
    "* The first argument is the parent feature with the value that led to current node\n",
    "* The second argument is the selected feature of the current node\n",
    "* If the current node is a leaf, you need to print also the labels and their counts\n",
    "\n",
    "(5 points)"
   ]
  },
  {
   "cell_type": "code",
   "execution_count": 25,
   "metadata": {},
   "outputs": [],
   "source": [
    "# you can change the function signeture\n",
    "def print_tree(node, depth=0):\n",
    "    '''\n",
    "    prints the tree according to the example above\n",
    "\n",
    "    Input:\n",
    "    - node: a node in the decision tree\n",
    "\n",
    "    This function has no return value\n",
    "    '''\n",
    "    if depth == 0:\n",
    "        print(depth*\" \" + f\"[ROOT, feature=X{node.feature}]\")\n",
    "    else:\n",
    "        if len(node.children) == 0 and len(np.unique(node.data.T[-1]))!=1:\n",
    "            print(depth*\" \" + f\"[X{node.father.feature}={node.data[0][node.father.feature]}, leaf]: [{node.label_count}]\")\n",
    "        else:\n",
    "            print(depth*\" \" + f\"[X{node.father.feature}={node.data[0][node.father.feature]}, feature=X{node.feature}]\")\n",
    "    for child in node.children:\n",
    "        print_tree(child,depth+1)\n",
    "    "
   ]
  },
  {
   "cell_type": "markdown",
   "metadata": {},
   "source": [
    "print the tree with the best test accuracy and with less than 50 nodes (from the two pruning methods)"
   ]
  },
  {
   "cell_type": "code",
   "execution_count": 26,
   "metadata": {},
   "outputs": [
    {
     "name": "stdout",
     "output_type": "stream",
     "text": [
      "Best accuracy: 0.8852781880846874\n",
      "Best min samples: 1\n",
      "Best depth: 1\n",
      "Numner of nodes: 10\n",
      "\n",
      "[ROOT, feature=X4]\n",
      " [X4=a, leaf]: [{'e': 273, 'p': 31}]\n",
      " [X4=c, leaf]: [{'e': 10, 'p': 137}]\n",
      " [X4=f, leaf]: [{'e': 170, 'p': 1438}]\n",
      " [X4=l, leaf]: [{'e': 272, 'p': 27}]\n",
      " [X4=m, leaf]: [{'e': 2, 'p': 25}]\n",
      " [X4=n, leaf]: [{'e': 2332, 'p': 344}]\n",
      " [X4=p, leaf]: [{'e': 8, 'p': 175}]\n",
      " [X4=s, leaf]: [{'e': 38, 'p': 380}]\n",
      " [X4=y, leaf]: [{'e': 49, 'p': 382}]\n"
     ]
    }
   ],
   "source": [
    "best_accuracy = 0\n",
    "for depth in array_depth:\n",
    "    for min_samples in array_min_samples_split:\n",
    "        curr_tree = build_tree(data=X_train, impurity=calc_entropy,  curr_depth=0, root=None,gain_ratio=True, min_samples_split = min_samples,max_depth = depth)\n",
    "        tree_accuracy_test = calc_accuracy(curr_tree, X_test)\n",
    "        curr_tree_amount_nodes = count_nodes(curr_tree)\n",
    "        if tree_accuracy_test > best_accuracy and curr_tree_amount_nodes<=50:\n",
    "            best_accuracy = tree_accuracy_test\n",
    "            best_min_samples = min_samples\n",
    "            best_depth = depth\n",
    "            y_best = tree_accuracy_test\n",
    "            best_tree = curr_tree\n",
    "            num_nodes = curr_tree_amount_nodes\n",
    "print(f\"Best accuracy: {y_best}\")\n",
    "print(f\"Best min samples: {best_min_samples}\")\n",
    "print(f\"Best depth: {best_depth}\")\n",
    "print(f\"Numner of nodes: {num_nodes}\\n\")\n",
    "print_tree(best_tree)"
   ]
  },
  {
   "cell_type": "markdown",
   "metadata": {},
   "source": [
    "### A Better Tree with less then 50 nodes\n",
    "\n",
    "We wanted to check wich tree is the best from all the diffrent methood.\n",
    "\n",
    "We discovered the best tree with less then 50 nodes using Gini have a look!"
   ]
  },
  {
   "cell_type": "code",
   "execution_count": 27,
   "metadata": {},
   "outputs": [
    {
     "name": "stdout",
     "output_type": "stream",
     "text": [
      "Best Tree Gini\n",
      "Accuracy: 0.8931560807483998\n",
      "Min samples: 1\n",
      "Depth: 2\n",
      "Numner of nodes: 38\n",
      "\n"
     ]
    }
   ],
   "source": [
    "print(\"Best Tree Gini\")\n",
    "best_tree_ever = build_tree(data=X_train, impurity=calc_gini,  curr_depth=0, root=None, max_depth = 2, min_samples_split = 1)\n",
    "print(f\"Accuracy: {calc_accuracy(best_tree_ever,X_test)}\")\n",
    "print(f\"Min samples: 1\")\n",
    "print(f\"Depth: 2\")\n",
    "print(f\"Numner of nodes: {count_nodes(best_tree_ever)}\\n\")"
   ]
  }
 ],
 "metadata": {
  "celltoolbar": "Create Assignment",
  "kernelspec": {
   "display_name": "Python 3 (ipykernel)",
   "language": "python",
   "name": "python3"
  },
  "language_info": {
   "codemirror_mode": {
    "name": "ipython",
    "version": 3
   },
   "file_extension": ".py",
   "mimetype": "text/x-python",
   "name": "python",
   "nbconvert_exporter": "python",
   "pygments_lexer": "ipython3",
   "version": "3.10.0"
  }
 },
 "nbformat": 4,
 "nbformat_minor": 4
}
